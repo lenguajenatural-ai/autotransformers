{
 "cells": [
  {
   "cell_type": "markdown",
   "metadata": {},
   "source": [
    "# Reviews Classification with autotransformers\n",
    "\n"
   ]
  },
  {
   "cell_type": "code",
   "execution_count": null,
   "metadata": {},
   "outputs": [],
   "source": [
    "from autotransformers import DatasetConfig, ModelConfig, AutoTrainer, ResultsPlotter\n",
    "from autotransformers.default_param_spaces import hp_space_base"
   ]
  },
  {
   "cell_type": "code",
   "execution_count": 2,
   "metadata": {},
   "outputs": [],
   "source": [
    "fixed_train_args = {\n",
    "    \"evaluation_strategy\": \"steps\",\n",
    "    \"num_train_epochs\": 10,\n",
    "    \"do_train\": True,\n",
    "    \"do_eval\": True,\n",
    "    \"logging_strategy\": \"steps\",\n",
    "    \"eval_steps\": 1,\n",
    "    \"save_steps\": 1,\n",
    "    \"logging_steps\": 1,\n",
    "    \"save_strategy\": \"steps\",\n",
    "    \"save_total_limit\": 2,\n",
    "    \"seed\": 69,\n",
    "    \"fp16\": False,\n",
    "    \"load_best_model_at_end\": True,\n",
    "    \"per_device_eval_batch_size\": 16,\n",
    "    \"max_steps\": 1\n",
    "}"
   ]
  },
  {
   "cell_type": "code",
   "execution_count": 3,
   "metadata": {},
   "outputs": [],
   "source": [
    "default_args_dataset = {\n",
    "    \"seed\": 44,\n",
    "    \"direction_optimize\": \"maximize\",\n",
    "    \"metric_optimize\": \"eval_f1-score\",\n",
    "    \"retrain_at_end\": False,\n",
    "    \"fixed_training_args\": fixed_train_args\n",
    "}"
   ]
  },
  {
   "cell_type": "code",
   "execution_count": 4,
   "metadata": {},
   "outputs": [],
   "source": [
    "rotten_tomatoes_config = default_args_dataset.copy()\n",
    "rotten_tomatoes_config.update(\n",
    "    {\n",
    "        \"dataset_name\": \"rotten_tomatoes\",\n",
    "        \"alias\": \"rotten_tomatoes\",\n",
    "        \"task\": \"classification\",\n",
    "        \"label_col\": \"label\",\n",
    "        \"text_field\": \"text\",\n",
    "        \"hf_load_kwargs\": {\"path\": \"rotten_tomatoes\"}\n",
    "    }\n",
    ")"
   ]
  },
  {
   "cell_type": "code",
   "execution_count": 5,
   "metadata": {},
   "outputs": [],
   "source": [
    "rotten_tomatoes_config = DatasetConfig(**rotten_tomatoes_config)"
   ]
  },
  {
   "cell_type": "code",
   "execution_count": 6,
   "metadata": {},
   "outputs": [],
   "source": [
    "debertav2_config = ModelConfig(\n",
    "    name=\"microsoft/deberta-base\",\n",
    "    save_name=\"debertabase\",\n",
    "    hp_space=hp_space_base,\n",
    "    n_trials=1,\n",
    "    additional_params_tokenizer={\"model_max_length\": 512}\n",
    ")"
   ]
  },
  {
   "cell_type": "code",
   "execution_count": 7,
   "metadata": {},
   "outputs": [],
   "source": [
    "autotrainer = AutoTrainer(\n",
    "    model_configs=[debertav2_config],\n",
    "    dataset_configs=[rotten_tomatoes_config],\n",
    "    metrics_dir=\"rottentomatoes_metrics\"\n",
    ")"
   ]
  },
  {
   "cell_type": "code",
   "execution_count": null,
   "metadata": {},
   "outputs": [],
   "source": [
    "results = autotrainer()"
   ]
  },
  {
   "cell_type": "code",
   "execution_count": null,
   "metadata": {},
   "outputs": [],
   "source": [
    "results"
   ]
  }
 ],
 "metadata": {
  "kernelspec": {
   "display_name": "autotransformers",
   "language": "python",
   "name": "python3"
  },
  "language_info": {
   "codemirror_mode": {
    "name": "ipython",
    "version": 3
   },
   "file_extension": ".py",
   "mimetype": "text/x-python",
   "name": "python",
   "nbconvert_exporter": "python",
   "pygments_lexer": "ipython3",
   "version": "3.10.12"
  }
 },
 "nbformat": 4,
 "nbformat_minor": 2
}
