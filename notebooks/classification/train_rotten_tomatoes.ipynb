{
 "cells": [
  {
   "cell_type": "markdown",
   "metadata": {},
   "source": [
    "# Reviews Classification with autotransformers\n",
    "\n"
   ]
  },
  {
   "cell_type": "code",
   "execution_count": 1,
   "metadata": {},
   "outputs": [
    {
     "name": "stderr",
     "output_type": "stream",
     "text": [
      "[nltk_data] Downloading package punkt to /home/alejandro/nltk_data...\n",
      "[nltk_data]   Package punkt is already up-to-date!\n",
      "/home/alejandro/miniconda3/envs/test_autotransformers/lib/python3.10/site-packages/tqdm/auto.py:21: TqdmWarning: IProgress not found. Please update jupyter and ipywidgets. See https://ipywidgets.readthedocs.io/en/stable/user_install.html\n",
      "  from .autonotebook import tqdm as notebook_tqdm\n",
      "[nltk_data] Downloading package punkt to /home/alejandro/nltk_data...\n",
      "[nltk_data]   Package punkt is already up-to-date!\n"
     ]
    }
   ],
   "source": [
    "from autotransformers import DatasetConfig, ModelConfig, AutoTrainer, ResultsPlotter\n",
    "from autotransformers.default_param_spaces import hp_space_base"
   ]
  },
  {
   "cell_type": "code",
   "execution_count": 2,
   "metadata": {},
   "outputs": [],
   "source": [
    "fixed_train_args = {\n",
    "    \"evaluation_strategy\": \"steps\",\n",
    "    \"num_train_epochs\": 10,\n",
    "    \"do_train\": True,\n",
    "    \"do_eval\": True,\n",
    "    \"logging_strategy\": \"steps\",\n",
    "    \"eval_steps\": 1,\n",
    "    \"save_steps\": 1,\n",
    "    \"logging_steps\": 1,\n",
    "    \"save_strategy\": \"steps\",\n",
    "    \"save_total_limit\": 2,\n",
    "    \"seed\": 69,\n",
    "    \"fp16\": False,\n",
    "    \"load_best_model_at_end\": True,\n",
    "    \"per_device_eval_batch_size\": 16,\n",
    "    \"max_steps\": 1\n",
    "}"
   ]
  },
  {
   "cell_type": "code",
   "execution_count": 3,
   "metadata": {},
   "outputs": [],
   "source": [
    "default_args_dataset = {\n",
    "    \"seed\": 44,\n",
    "    \"direction_optimize\": \"maximize\",\n",
    "    \"metric_optimize\": \"eval_f1-score\",\n",
    "    \"retrain_at_end\": False,\n",
    "    \"fixed_training_args\": fixed_train_args\n",
    "}"
   ]
  },
  {
   "cell_type": "code",
   "execution_count": 4,
   "metadata": {},
   "outputs": [],
   "source": [
    "rotten_tomatoes_config = default_args_dataset.copy()\n",
    "rotten_tomatoes_config.update(\n",
    "    {\n",
    "        \"dataset_name\": \"rotten_tomatoes\",\n",
    "        \"alias\": \"rotten_tomatoes\",\n",
    "        \"task\": \"classification\",\n",
    "        \"label_col\": \"label\",\n",
    "        \"text_field\": \"text\",\n",
    "        \"hf_load_kwargs\": {\"path\": \"rotten_tomatoes\"}\n",
    "    }\n",
    ")"
   ]
  },
  {
   "cell_type": "code",
   "execution_count": 5,
   "metadata": {},
   "outputs": [],
   "source": [
    "rotten_tomatoes_config = DatasetConfig(**rotten_tomatoes_config)"
   ]
  },
  {
   "cell_type": "code",
   "execution_count": 6,
   "metadata": {},
   "outputs": [],
   "source": [
    "debertav2_config = ModelConfig(\n",
    "    name=\"microsoft/deberta-base\",\n",
    "    save_name=\"debertabase\",\n",
    "    hp_space=hp_space_base,\n",
    "    n_trials=1,\n",
    "    additional_params_tokenizer={\"model_max_length\": 512}\n",
    ")"
   ]
  },
  {
   "cell_type": "code",
   "execution_count": 7,
   "metadata": {},
   "outputs": [],
   "source": [
    "autotrainer = AutoTrainer(\n",
    "    model_configs=[debertav2_config],\n",
    "    dataset_configs=[rotten_tomatoes_config],\n",
    "    metrics_dir=\"rottentomatoes_metrics\"\n",
    ")"
   ]
  },
  {
   "cell_type": "code",
   "execution_count": 8,
   "metadata": {},
   "outputs": [
    {
     "name": "stderr",
     "output_type": "stream",
     "text": [
      "Iterating over datasets...:   0%|          | 0/1 [00:00<?, ?it/s]Some weights of DebertaForSequenceClassification were not initialized from the model checkpoint at microsoft/deberta-base and are newly initialized: ['classifier.bias', 'classifier.weight', 'pooler.dense.bias', 'pooler.dense.weight']\n",
      "You should probably TRAIN this model on a down-stream task to be able to use it for predictions and inference.\n",
      "[I 2024-03-22 11:08:16,616] A new study created in memory with name: no-name-ee1e9a54-f11a-4f1b-a34c-75572b485b03\n",
      "Some weights of DebertaForSequenceClassification were not initialized from the model checkpoint at microsoft/deberta-base and are newly initialized: ['classifier.bias', 'classifier.weight', 'pooler.dense.bias', 'pooler.dense.weight']\n",
      "You should probably TRAIN this model on a down-stream task to be able to use it for predictions and inference.\n"
     ]
    },
    {
     "data": {
      "text/html": [
       "\n",
       "    <div>\n",
       "      \n",
       "      <progress value='1' max='1' style='width:300px; height:20px; vertical-align: middle;'></progress>\n",
       "      [1/1 00:24, Epoch 0/1]\n",
       "    </div>\n",
       "    <table border=\"1\" class=\"dataframe\">\n",
       "  <thead>\n",
       " <tr style=\"text-align: left;\">\n",
       "      <th>Step</th>\n",
       "      <th>Training Loss</th>\n",
       "      <th>Validation Loss</th>\n",
       "      <th>Precision</th>\n",
       "      <th>Recall</th>\n",
       "      <th>F1-score</th>\n",
       "      <th>Support</th>\n",
       "    </tr>\n",
       "  </thead>\n",
       "  <tbody>\n",
       "    <tr>\n",
       "      <td>1</td>\n",
       "      <td>0.693100</td>\n",
       "      <td>0.694883</td>\n",
       "      <td>0.250000</td>\n",
       "      <td>0.500000</td>\n",
       "      <td>0.333333</td>\n",
       "      <td>1066.000000</td>\n",
       "    </tr>\n",
       "  </tbody>\n",
       "</table><p>"
      ],
      "text/plain": [
       "<IPython.core.display.HTML object>"
      ]
     },
     "metadata": {},
     "output_type": "display_data"
    },
    {
     "name": "stderr",
     "output_type": "stream",
     "text": [
      "/home/alejandro/miniconda3/envs/test_autotransformers/lib/python3.10/site-packages/sklearn/metrics/_classification.py:1509: UndefinedMetricWarning: Precision is ill-defined and being set to 0.0 in labels with no predicted samples. Use `zero_division` parameter to control this behavior.\n",
      "  _warn_prf(average, modifier, f\"{metric.capitalize()} is\", len(result))\n",
      "/home/alejandro/miniconda3/envs/test_autotransformers/lib/python3.10/site-packages/sklearn/metrics/_classification.py:1509: UndefinedMetricWarning: Precision is ill-defined and being set to 0.0 in labels with no predicted samples. Use `zero_division` parameter to control this behavior.\n",
      "  _warn_prf(average, modifier, f\"{metric.capitalize()} is\", len(result))\n",
      "/home/alejandro/miniconda3/envs/test_autotransformers/lib/python3.10/site-packages/sklearn/metrics/_classification.py:1509: UndefinedMetricWarning: Precision is ill-defined and being set to 0.0 in labels with no predicted samples. Use `zero_division` parameter to control this behavior.\n",
      "  _warn_prf(average, modifier, f\"{metric.capitalize()} is\", len(result))\n",
      "[I 2024-03-22 11:08:43,153] Trial 0 finished with value: 0.3333333333333333 and parameters: {'learning_rate': 5.076021624290767e-05, 'num_train_epochs': 5, 'per_device_train_batch_size': 16, 'per_device_eval_batch_size': 32, 'gradient_accumulation_steps': 1, 'warmup_ratio': 0.016515771639929806, 'weight_decay': 0.11859841816622156, 'adam_epsilon': 5.934756183514226e-07}. Best is trial 0 with value: 0.3333333333333333.\n"
     ]
    },
    {
     "data": {
      "text/html": [],
      "text/plain": [
       "<IPython.core.display.HTML object>"
      ]
     },
     "metadata": {},
     "output_type": "display_data"
    },
    {
     "name": "stderr",
     "output_type": "stream",
     "text": [
      "/home/alejandro/miniconda3/envs/test_autotransformers/lib/python3.10/site-packages/sklearn/metrics/_classification.py:1509: UndefinedMetricWarning: Precision is ill-defined and being set to 0.0 in labels with no predicted samples. Use `zero_division` parameter to control this behavior.\n",
      "  _warn_prf(average, modifier, f\"{metric.capitalize()} is\", len(result))\n",
      "/home/alejandro/miniconda3/envs/test_autotransformers/lib/python3.10/site-packages/sklearn/metrics/_classification.py:1509: UndefinedMetricWarning: Precision is ill-defined and being set to 0.0 in labels with no predicted samples. Use `zero_division` parameter to control this behavior.\n",
      "  _warn_prf(average, modifier, f\"{metric.capitalize()} is\", len(result))\n",
      "/home/alejandro/miniconda3/envs/test_autotransformers/lib/python3.10/site-packages/sklearn/metrics/_classification.py:1509: UndefinedMetricWarning: Precision is ill-defined and being set to 0.0 in labels with no predicted samples. Use `zero_division` parameter to control this behavior.\n",
      "  _warn_prf(average, modifier, f\"{metric.capitalize()} is\", len(result))\n",
      "\n",
      "\u001b[A"
     ]
    },
    {
     "name": "stdout",
     "output_type": "stream",
     "text": [
      "saving new best checkpoint...\n",
      "Copiando ./best_optuna_debertabase-rotten_tomatoes/run-0/checkpoint-1 a ./best_ckpt_debertabase-rotten_tomatoes\n"
     ]
    },
    {
     "name": "stderr",
     "output_type": "stream",
     "text": [
      "\n",
      "\n",
      "deleting models...: 0it [00:00, ?it/s]\n",
      "\n",
      "100%|██████████| 1/1 [00:06<00:00,  6.32s/it]\n"
     ]
    },
    {
     "name": "stdout",
     "output_type": "stream",
     "text": [
      "For model ./best_optuna_debertabase-rotten_tomatoes the best metric is 0.3333333333333333 and the worst is 0.3333333333333333\n",
      "Copiando ./best_optuna_debertabase-rotten_tomatoes/run-0/checkpoint-1 a ./best_ckpt_debertabase-rotten_tomatoes\n"
     ]
    },
    {
     "name": "stderr",
     "output_type": "stream",
     "text": [
      "Trying models on dataset rotten_tomatoes: 100%|██████████| 1/1 [00:46<00:00, 46.39s/it]\n",
      "Iterating over datasets...: 100%|██████████| 1/1 [00:46<00:00, 46.39s/it]\n"
     ]
    }
   ],
   "source": [
    "results = autotrainer()"
   ]
  },
  {
   "cell_type": "code",
   "execution_count": 9,
   "metadata": {},
   "outputs": [
    {
     "data": {
      "text/plain": [
       "{'debertabase': {'loss': 0.6948193907737732,\n",
       "  'precision': 0.25,\n",
       "  'recall': 0.5,\n",
       "  'f1-score': 0.3333333333333333,\n",
       "  'support': 1066.0,\n",
       "  'runtime': 1.5108,\n",
       "  'samples_per_second': 705.608,\n",
       "  'steps_per_second': 22.505}}"
      ]
     },
     "execution_count": 9,
     "metadata": {},
     "output_type": "execute_result"
    }
   ],
   "source": [
    "results"
   ]
  },
  {
   "cell_type": "code",
   "execution_count": null,
   "metadata": {},
   "outputs": [],
   "source": []
  }
 ],
 "metadata": {
  "kernelspec": {
   "display_name": "autotransformers",
   "language": "python",
   "name": "python3"
  },
  "language_info": {
   "codemirror_mode": {
    "name": "ipython",
    "version": 3
   },
   "file_extension": ".py",
   "mimetype": "text/x-python",
   "name": "python",
   "nbconvert_exporter": "python",
   "pygments_lexer": "ipython3",
   "version": "3.10.12"
  }
 },
 "nbformat": 4,
 "nbformat_minor": 2
}
