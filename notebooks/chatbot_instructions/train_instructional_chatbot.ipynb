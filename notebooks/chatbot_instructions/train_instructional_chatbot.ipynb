{
 "cells": [
  {
   "cell_type": "markdown",
   "metadata": {},
   "source": [
    "[![Open in Colab](https://colab.research.google.com/assets/colab-badge.svg)](https://colab.research.google.com/github.com/lenguajenatural-ai/autotransformers/blob/master/notebooks/chatbot_instructions/train_instructional_chatbot.ipynb)"
   ]
  },
  {
   "cell_type": "code",
   "execution_count": 1,
   "metadata": {},
   "outputs": [
    {
     "name": "stdout",
     "output_type": "stream",
     "text": [
      "Requirement already satisfied: autotransformers in /home/alejandro/miniconda3/envs/autotransformers/lib/python3.11/site-packages (0.0.1)\n",
      "Collecting autotransformers\n",
      "  Downloading autotransformers-0.0.3-py3-none-any.whl.metadata (25 kB)\n",
      "Requirement already satisfied: accelerate<0.22.0,>=0.21.0 in /home/alejandro/miniconda3/envs/autotransformers/lib/python3.11/site-packages (from autotransformers) (0.21.0)\n",
      "Requirement already satisfied: apscheduler<4.0.0,>=3.6.3 in /home/alejandro/miniconda3/envs/autotransformers/lib/python3.11/site-packages (from autotransformers) (3.10.4)\n",
      "Requirement already satisfied: bitsandbytes<0.43.0,>=0.42.0 in /home/alejandro/miniconda3/envs/autotransformers/lib/python3.11/site-packages (from autotransformers) (0.42.0)\n",
      "Requirement already satisfied: datasets<3.0.0,>=2.17.1 in /home/alejandro/miniconda3/envs/autotransformers/lib/python3.11/site-packages (from autotransformers) (2.18.0)\n",
      "Requirement already satisfied: einops<0.7.0,>=0.6.1 in /home/alejandro/miniconda3/envs/autotransformers/lib/python3.11/site-packages (from autotransformers) (0.6.1)\n",
      "Requirement already satisfied: evaluate<0.3.0,>=0.2.2 in /home/alejandro/miniconda3/envs/autotransformers/lib/python3.11/site-packages (from autotransformers) (0.2.2)\n",
      "Requirement already satisfied: more-itertools<9.0.0,>=8.14.0 in /home/alejandro/miniconda3/envs/autotransformers/lib/python3.11/site-packages (from autotransformers) (8.14.0)\n",
      "Requirement already satisfied: nlpaug<2.0.0,>=1.1.11 in /home/alejandro/miniconda3/envs/autotransformers/lib/python3.11/site-packages (from autotransformers) (1.1.11)\n",
      "Requirement already satisfied: nltk<4.0,>=3.7 in /home/alejandro/miniconda3/envs/autotransformers/lib/python3.11/site-packages (from autotransformers) (3.8.1)\n",
      "Requirement already satisfied: optuna<4.0.0,>=3.0.2 in /home/alejandro/miniconda3/envs/autotransformers/lib/python3.11/site-packages (from autotransformers) (3.5.0)\n",
      "Requirement already satisfied: pandas<2.0.0,>=1.3.5 in /home/alejandro/miniconda3/envs/autotransformers/lib/python3.11/site-packages (from autotransformers) (1.5.3)\n",
      "Requirement already satisfied: peft<0.9.0,>=0.8.2 in /home/alejandro/miniconda3/envs/autotransformers/lib/python3.11/site-packages (from autotransformers) (0.8.2)\n",
      "Requirement already satisfied: polyfuzz<0.5.0,>=0.4.0 in /home/alejandro/miniconda3/envs/autotransformers/lib/python3.11/site-packages (from autotransformers) (0.4.2)\n",
      "Requirement already satisfied: pytest<8.0.0,>=7.1.3 in /home/alejandro/miniconda3/envs/autotransformers/lib/python3.11/site-packages (from autotransformers) (7.4.4)\n",
      "Requirement already satisfied: rouge_score<0.2.0,>=0.1.2 in /home/alejandro/miniconda3/envs/autotransformers/lib/python3.11/site-packages (from autotransformers) (0.1.2)\n",
      "Requirement already satisfied: scikit-learn<2.0.0,>=1.0.2 in /home/alejandro/miniconda3/envs/autotransformers/lib/python3.11/site-packages (from autotransformers) (1.4.1.post1)\n",
      "Requirement already satisfied: scipy<2.0.0,>=1.11.0 in /home/alejandro/miniconda3/envs/autotransformers/lib/python3.11/site-packages (from autotransformers) (1.12.0)\n",
      "Requirement already satisfied: seaborn<0.13.0,>=0.12.0 in /home/alejandro/miniconda3/envs/autotransformers/lib/python3.11/site-packages (from autotransformers) (0.12.2)\n",
      "Requirement already satisfied: sentencepiece<0.2.0,>=0.1.97 in /home/alejandro/miniconda3/envs/autotransformers/lib/python3.11/site-packages (from autotransformers) (0.1.99)\n",
      "Requirement already satisfied: seqeval<2.0.0,>=1.2.2 in /home/alejandro/miniconda3/envs/autotransformers/lib/python3.11/site-packages (from autotransformers) (1.2.2)\n",
      "Requirement already satisfied: simpletransformers<0.62.0,>=0.61.10 in /home/alejandro/miniconda3/envs/autotransformers/lib/python3.11/site-packages (from autotransformers) (0.61.14)\n",
      "Requirement already satisfied: tensorboard<3.0.0,>=2.10.1 in /home/alejandro/miniconda3/envs/autotransformers/lib/python3.11/site-packages (from autotransformers) (2.16.2)\n",
      "Requirement already satisfied: tensorboardX<3.0.0,>=2.5.1 in /home/alejandro/miniconda3/envs/autotransformers/lib/python3.11/site-packages (from autotransformers) (2.6.2.2)\n",
      "Requirement already satisfied: tqdm<5.0.0,>=4.64.1 in /home/alejandro/miniconda3/envs/autotransformers/lib/python3.11/site-packages (from autotransformers) (4.66.2)\n",
      "Requirement already satisfied: transformers<5.0.0,>=4.38.1 in /home/alejandro/miniconda3/envs/autotransformers/lib/python3.11/site-packages (from transformers[torch]<5.0.0,>=4.38.1->autotransformers) (4.38.2)\n",
      "Requirement already satisfied: trl<0.8.0,>=0.7.11 in /home/alejandro/miniconda3/envs/autotransformers/lib/python3.11/site-packages (from autotransformers) (0.7.11)\n",
      "Requirement already satisfied: numpy>=1.17 in /home/alejandro/miniconda3/envs/autotransformers/lib/python3.11/site-packages (from accelerate<0.22.0,>=0.21.0->autotransformers) (1.26.4)\n",
      "Requirement already satisfied: packaging>=20.0 in /home/alejandro/miniconda3/envs/autotransformers/lib/python3.11/site-packages (from accelerate<0.22.0,>=0.21.0->autotransformers) (24.0)\n",
      "Requirement already satisfied: psutil in /home/alejandro/miniconda3/envs/autotransformers/lib/python3.11/site-packages (from accelerate<0.22.0,>=0.21.0->autotransformers) (5.9.8)\n",
      "Requirement already satisfied: pyyaml in /home/alejandro/miniconda3/envs/autotransformers/lib/python3.11/site-packages (from accelerate<0.22.0,>=0.21.0->autotransformers) (6.0.1)\n",
      "Requirement already satisfied: torch>=1.10.0 in /home/alejandro/miniconda3/envs/autotransformers/lib/python3.11/site-packages (from accelerate<0.22.0,>=0.21.0->autotransformers) (2.2.1)\n",
      "Requirement already satisfied: six>=1.4.0 in /home/alejandro/miniconda3/envs/autotransformers/lib/python3.11/site-packages (from apscheduler<4.0.0,>=3.6.3->autotransformers) (1.16.0)\n",
      "Requirement already satisfied: pytz in /home/alejandro/miniconda3/envs/autotransformers/lib/python3.11/site-packages (from apscheduler<4.0.0,>=3.6.3->autotransformers) (2024.1)\n",
      "Requirement already satisfied: tzlocal!=3.*,>=2.0 in /home/alejandro/miniconda3/envs/autotransformers/lib/python3.11/site-packages (from apscheduler<4.0.0,>=3.6.3->autotransformers) (5.2)\n",
      "Requirement already satisfied: filelock in /home/alejandro/miniconda3/envs/autotransformers/lib/python3.11/site-packages (from datasets<3.0.0,>=2.17.1->autotransformers) (3.13.1)\n",
      "Requirement already satisfied: pyarrow>=12.0.0 in /home/alejandro/miniconda3/envs/autotransformers/lib/python3.11/site-packages (from datasets<3.0.0,>=2.17.1->autotransformers) (15.0.1)\n",
      "Requirement already satisfied: pyarrow-hotfix in /home/alejandro/miniconda3/envs/autotransformers/lib/python3.11/site-packages (from datasets<3.0.0,>=2.17.1->autotransformers) (0.6)\n",
      "Requirement already satisfied: dill<0.3.9,>=0.3.0 in /home/alejandro/miniconda3/envs/autotransformers/lib/python3.11/site-packages (from datasets<3.0.0,>=2.17.1->autotransformers) (0.3.8)\n",
      "Requirement already satisfied: requests>=2.19.0 in /home/alejandro/miniconda3/envs/autotransformers/lib/python3.11/site-packages (from datasets<3.0.0,>=2.17.1->autotransformers) (2.31.0)\n",
      "Requirement already satisfied: xxhash in /home/alejandro/miniconda3/envs/autotransformers/lib/python3.11/site-packages (from datasets<3.0.0,>=2.17.1->autotransformers) (3.4.1)\n",
      "Requirement already satisfied: multiprocess in /home/alejandro/miniconda3/envs/autotransformers/lib/python3.11/site-packages (from datasets<3.0.0,>=2.17.1->autotransformers) (0.70.16)\n",
      "Requirement already satisfied: fsspec<=2024.2.0,>=2023.1.0 in /home/alejandro/miniconda3/envs/autotransformers/lib/python3.11/site-packages (from fsspec[http]<=2024.2.0,>=2023.1.0->datasets<3.0.0,>=2.17.1->autotransformers) (2024.2.0)\n",
      "Requirement already satisfied: aiohttp in /home/alejandro/miniconda3/envs/autotransformers/lib/python3.11/site-packages (from datasets<3.0.0,>=2.17.1->autotransformers) (3.9.3)\n",
      "Requirement already satisfied: huggingface-hub>=0.19.4 in /home/alejandro/miniconda3/envs/autotransformers/lib/python3.11/site-packages (from datasets<3.0.0,>=2.17.1->autotransformers) (0.21.4)\n",
      "Requirement already satisfied: responses<0.19 in /home/alejandro/miniconda3/envs/autotransformers/lib/python3.11/site-packages (from evaluate<0.3.0,>=0.2.2->autotransformers) (0.18.0)\n",
      "Requirement already satisfied: gdown>=4.0.0 in /home/alejandro/miniconda3/envs/autotransformers/lib/python3.11/site-packages (from nlpaug<2.0.0,>=1.1.11->autotransformers) (5.1.0)\n",
      "Requirement already satisfied: click in /home/alejandro/miniconda3/envs/autotransformers/lib/python3.11/site-packages (from nltk<4.0,>=3.7->autotransformers) (8.0.4)\n",
      "Requirement already satisfied: joblib in /home/alejandro/miniconda3/envs/autotransformers/lib/python3.11/site-packages (from nltk<4.0,>=3.7->autotransformers) (1.3.2)\n",
      "Requirement already satisfied: regex>=2021.8.3 in /home/alejandro/miniconda3/envs/autotransformers/lib/python3.11/site-packages (from nltk<4.0,>=3.7->autotransformers) (2023.12.25)\n",
      "Requirement already satisfied: alembic>=1.5.0 in /home/alejandro/miniconda3/envs/autotransformers/lib/python3.11/site-packages (from optuna<4.0.0,>=3.0.2->autotransformers) (1.13.1)\n",
      "Requirement already satisfied: colorlog in /home/alejandro/miniconda3/envs/autotransformers/lib/python3.11/site-packages (from optuna<4.0.0,>=3.0.2->autotransformers) (6.8.2)\n",
      "Requirement already satisfied: sqlalchemy>=1.3.0 in /home/alejandro/miniconda3/envs/autotransformers/lib/python3.11/site-packages (from optuna<4.0.0,>=3.0.2->autotransformers) (2.0.28)\n",
      "Requirement already satisfied: python-dateutil>=2.8.1 in /home/alejandro/miniconda3/envs/autotransformers/lib/python3.11/site-packages (from pandas<2.0.0,>=1.3.5->autotransformers) (2.9.0.post0)\n",
      "Requirement already satisfied: safetensors in /home/alejandro/miniconda3/envs/autotransformers/lib/python3.11/site-packages (from peft<0.9.0,>=0.8.2->autotransformers) (0.4.2)\n",
      "Requirement already satisfied: matplotlib>=3.2.2 in /home/alejandro/miniconda3/envs/autotransformers/lib/python3.11/site-packages (from polyfuzz<0.5.0,>=0.4.0->autotransformers) (3.8.3)\n",
      "Requirement already satisfied: rapidfuzz>=0.13.1 in /home/alejandro/miniconda3/envs/autotransformers/lib/python3.11/site-packages (from polyfuzz<0.5.0,>=0.4.0->autotransformers) (3.6.2)\n",
      "Requirement already satisfied: iniconfig in /home/alejandro/miniconda3/envs/autotransformers/lib/python3.11/site-packages (from pytest<8.0.0,>=7.1.3->autotransformers) (2.0.0)\n",
      "Requirement already satisfied: pluggy<2.0,>=0.12 in /home/alejandro/miniconda3/envs/autotransformers/lib/python3.11/site-packages (from pytest<8.0.0,>=7.1.3->autotransformers) (1.4.0)\n",
      "Requirement already satisfied: absl-py in /home/alejandro/miniconda3/envs/autotransformers/lib/python3.11/site-packages (from rouge_score<0.2.0,>=0.1.2->autotransformers) (2.1.0)\n",
      "Requirement already satisfied: threadpoolctl>=2.0.0 in /home/alejandro/miniconda3/envs/autotransformers/lib/python3.11/site-packages (from scikit-learn<2.0.0,>=1.0.2->autotransformers) (3.3.0)\n",
      "Requirement already satisfied: tokenizers in /home/alejandro/miniconda3/envs/autotransformers/lib/python3.11/site-packages (from simpletransformers<0.62.0,>=0.61.10->autotransformers) (0.15.2)\n",
      "Requirement already satisfied: wandb>=0.10.32 in /home/alejandro/miniconda3/envs/autotransformers/lib/python3.11/site-packages (from simpletransformers<0.62.0,>=0.61.10->autotransformers) (0.12.16)\n",
      "Requirement already satisfied: streamlit in /home/alejandro/miniconda3/envs/autotransformers/lib/python3.11/site-packages (from simpletransformers<0.62.0,>=0.61.10->autotransformers) (1.9.0)\n",
      "Requirement already satisfied: grpcio>=1.48.2 in /home/alejandro/miniconda3/envs/autotransformers/lib/python3.11/site-packages (from tensorboard<3.0.0,>=2.10.1->autotransformers) (1.62.1)\n",
      "Requirement already satisfied: markdown>=2.6.8 in /home/alejandro/miniconda3/envs/autotransformers/lib/python3.11/site-packages (from tensorboard<3.0.0,>=2.10.1->autotransformers) (3.5.2)\n",
      "Requirement already satisfied: protobuf!=4.24.0,>=3.19.6 in /home/alejandro/miniconda3/envs/autotransformers/lib/python3.11/site-packages (from tensorboard<3.0.0,>=2.10.1->autotransformers) (3.20.3)\n",
      "Requirement already satisfied: setuptools>=41.0.0 in /home/alejandro/miniconda3/envs/autotransformers/lib/python3.11/site-packages (from tensorboard<3.0.0,>=2.10.1->autotransformers) (69.2.0)\n",
      "Requirement already satisfied: tensorboard-data-server<0.8.0,>=0.7.0 in /home/alejandro/miniconda3/envs/autotransformers/lib/python3.11/site-packages (from tensorboard<3.0.0,>=2.10.1->autotransformers) (0.7.2)\n",
      "Requirement already satisfied: werkzeug>=1.0.1 in /home/alejandro/miniconda3/envs/autotransformers/lib/python3.11/site-packages (from tensorboard<3.0.0,>=2.10.1->autotransformers) (3.0.1)\n",
      "Requirement already satisfied: tyro>=0.5.11 in /home/alejandro/miniconda3/envs/autotransformers/lib/python3.11/site-packages (from trl<0.8.0,>=0.7.11->autotransformers) (0.7.3)\n",
      "Requirement already satisfied: Mako in /home/alejandro/miniconda3/envs/autotransformers/lib/python3.11/site-packages (from alembic>=1.5.0->optuna<4.0.0,>=3.0.2->autotransformers) (1.3.2)\n",
      "Requirement already satisfied: typing-extensions>=4 in /home/alejandro/miniconda3/envs/autotransformers/lib/python3.11/site-packages (from alembic>=1.5.0->optuna<4.0.0,>=3.0.2->autotransformers) (4.10.0)\n",
      "Requirement already satisfied: aiosignal>=1.1.2 in /home/alejandro/miniconda3/envs/autotransformers/lib/python3.11/site-packages (from aiohttp->datasets<3.0.0,>=2.17.1->autotransformers) (1.3.1)\n",
      "Requirement already satisfied: attrs>=17.3.0 in /home/alejandro/miniconda3/envs/autotransformers/lib/python3.11/site-packages (from aiohttp->datasets<3.0.0,>=2.17.1->autotransformers) (23.1.0)\n",
      "Requirement already satisfied: frozenlist>=1.1.1 in /home/alejandro/miniconda3/envs/autotransformers/lib/python3.11/site-packages (from aiohttp->datasets<3.0.0,>=2.17.1->autotransformers) (1.4.1)\n",
      "Requirement already satisfied: multidict<7.0,>=4.5 in /home/alejandro/miniconda3/envs/autotransformers/lib/python3.11/site-packages (from aiohttp->datasets<3.0.0,>=2.17.1->autotransformers) (6.0.5)\n",
      "Requirement already satisfied: yarl<2.0,>=1.0 in /home/alejandro/miniconda3/envs/autotransformers/lib/python3.11/site-packages (from aiohttp->datasets<3.0.0,>=2.17.1->autotransformers) (1.9.4)\n",
      "Requirement already satisfied: beautifulsoup4 in /home/alejandro/miniconda3/envs/autotransformers/lib/python3.11/site-packages (from gdown>=4.0.0->nlpaug<2.0.0,>=1.1.11->autotransformers) (4.12.2)\n",
      "Requirement already satisfied: contourpy>=1.0.1 in /home/alejandro/miniconda3/envs/autotransformers/lib/python3.11/site-packages (from matplotlib>=3.2.2->polyfuzz<0.5.0,>=0.4.0->autotransformers) (1.2.0)\n",
      "Requirement already satisfied: cycler>=0.10 in /home/alejandro/miniconda3/envs/autotransformers/lib/python3.11/site-packages (from matplotlib>=3.2.2->polyfuzz<0.5.0,>=0.4.0->autotransformers) (0.12.1)\n",
      "Requirement already satisfied: fonttools>=4.22.0 in /home/alejandro/miniconda3/envs/autotransformers/lib/python3.11/site-packages (from matplotlib>=3.2.2->polyfuzz<0.5.0,>=0.4.0->autotransformers) (4.49.0)\n",
      "Requirement already satisfied: kiwisolver>=1.3.1 in /home/alejandro/miniconda3/envs/autotransformers/lib/python3.11/site-packages (from matplotlib>=3.2.2->polyfuzz<0.5.0,>=0.4.0->autotransformers) (1.4.5)\n",
      "Requirement already satisfied: pillow>=8 in /home/alejandro/miniconda3/envs/autotransformers/lib/python3.11/site-packages (from matplotlib>=3.2.2->polyfuzz<0.5.0,>=0.4.0->autotransformers) (10.2.0)\n",
      "Requirement already satisfied: pyparsing>=2.3.1 in /home/alejandro/miniconda3/envs/autotransformers/lib/python3.11/site-packages (from matplotlib>=3.2.2->polyfuzz<0.5.0,>=0.4.0->autotransformers) (3.1.2)\n",
      "Requirement already satisfied: charset-normalizer<4,>=2 in /home/alejandro/miniconda3/envs/autotransformers/lib/python3.11/site-packages (from requests>=2.19.0->datasets<3.0.0,>=2.17.1->autotransformers) (3.3.2)\n",
      "Requirement already satisfied: idna<4,>=2.5 in /home/alejandro/miniconda3/envs/autotransformers/lib/python3.11/site-packages (from requests>=2.19.0->datasets<3.0.0,>=2.17.1->autotransformers) (3.6)\n",
      "Requirement already satisfied: urllib3<3,>=1.21.1 in /home/alejandro/miniconda3/envs/autotransformers/lib/python3.11/site-packages (from requests>=2.19.0->datasets<3.0.0,>=2.17.1->autotransformers) (2.2.1)\n",
      "Requirement already satisfied: certifi>=2017.4.17 in /home/alejandro/miniconda3/envs/autotransformers/lib/python3.11/site-packages (from requests>=2.19.0->datasets<3.0.0,>=2.17.1->autotransformers) (2024.2.2)\n",
      "Requirement already satisfied: greenlet!=0.4.17 in /home/alejandro/miniconda3/envs/autotransformers/lib/python3.11/site-packages (from sqlalchemy>=1.3.0->optuna<4.0.0,>=3.0.2->autotransformers) (3.0.3)\n",
      "Requirement already satisfied: sympy in /home/alejandro/miniconda3/envs/autotransformers/lib/python3.11/site-packages (from torch>=1.10.0->accelerate<0.22.0,>=0.21.0->autotransformers) (1.12)\n",
      "Requirement already satisfied: networkx in /home/alejandro/miniconda3/envs/autotransformers/lib/python3.11/site-packages (from torch>=1.10.0->accelerate<0.22.0,>=0.21.0->autotransformers) (3.2.1)\n",
      "Requirement already satisfied: jinja2 in /home/alejandro/miniconda3/envs/autotransformers/lib/python3.11/site-packages (from torch>=1.10.0->accelerate<0.22.0,>=0.21.0->autotransformers) (3.1.3)\n",
      "Requirement already satisfied: nvidia-cuda-nvrtc-cu12==12.1.105 in /home/alejandro/miniconda3/envs/autotransformers/lib/python3.11/site-packages (from torch>=1.10.0->accelerate<0.22.0,>=0.21.0->autotransformers) (12.1.105)\n",
      "Requirement already satisfied: nvidia-cuda-runtime-cu12==12.1.105 in /home/alejandro/miniconda3/envs/autotransformers/lib/python3.11/site-packages (from torch>=1.10.0->accelerate<0.22.0,>=0.21.0->autotransformers) (12.1.105)\n",
      "Requirement already satisfied: nvidia-cuda-cupti-cu12==12.1.105 in /home/alejandro/miniconda3/envs/autotransformers/lib/python3.11/site-packages (from torch>=1.10.0->accelerate<0.22.0,>=0.21.0->autotransformers) (12.1.105)\n",
      "Requirement already satisfied: nvidia-cudnn-cu12==8.9.2.26 in /home/alejandro/miniconda3/envs/autotransformers/lib/python3.11/site-packages (from torch>=1.10.0->accelerate<0.22.0,>=0.21.0->autotransformers) (8.9.2.26)\n",
      "Requirement already satisfied: nvidia-cublas-cu12==12.1.3.1 in /home/alejandro/miniconda3/envs/autotransformers/lib/python3.11/site-packages (from torch>=1.10.0->accelerate<0.22.0,>=0.21.0->autotransformers) (12.1.3.1)\n",
      "Requirement already satisfied: nvidia-cufft-cu12==11.0.2.54 in /home/alejandro/miniconda3/envs/autotransformers/lib/python3.11/site-packages (from torch>=1.10.0->accelerate<0.22.0,>=0.21.0->autotransformers) (11.0.2.54)\n",
      "Requirement already satisfied: nvidia-curand-cu12==10.3.2.106 in /home/alejandro/miniconda3/envs/autotransformers/lib/python3.11/site-packages (from torch>=1.10.0->accelerate<0.22.0,>=0.21.0->autotransformers) (10.3.2.106)\n",
      "Requirement already satisfied: nvidia-cusolver-cu12==11.4.5.107 in /home/alejandro/miniconda3/envs/autotransformers/lib/python3.11/site-packages (from torch>=1.10.0->accelerate<0.22.0,>=0.21.0->autotransformers) (11.4.5.107)\n",
      "Requirement already satisfied: nvidia-cusparse-cu12==12.1.0.106 in /home/alejandro/miniconda3/envs/autotransformers/lib/python3.11/site-packages (from torch>=1.10.0->accelerate<0.22.0,>=0.21.0->autotransformers) (12.1.0.106)\n",
      "Requirement already satisfied: nvidia-nccl-cu12==2.19.3 in /home/alejandro/miniconda3/envs/autotransformers/lib/python3.11/site-packages (from torch>=1.10.0->accelerate<0.22.0,>=0.21.0->autotransformers) (2.19.3)\n",
      "Requirement already satisfied: nvidia-nvtx-cu12==12.1.105 in /home/alejandro/miniconda3/envs/autotransformers/lib/python3.11/site-packages (from torch>=1.10.0->accelerate<0.22.0,>=0.21.0->autotransformers) (12.1.105)\n",
      "Requirement already satisfied: triton==2.2.0 in /home/alejandro/miniconda3/envs/autotransformers/lib/python3.11/site-packages (from torch>=1.10.0->accelerate<0.22.0,>=0.21.0->autotransformers) (2.2.0)\n",
      "Requirement already satisfied: nvidia-nvjitlink-cu12 in /home/alejandro/miniconda3/envs/autotransformers/lib/python3.11/site-packages (from nvidia-cusolver-cu12==11.4.5.107->torch>=1.10.0->accelerate<0.22.0,>=0.21.0->autotransformers) (12.4.99)\n",
      "Requirement already satisfied: docstring-parser>=0.14.1 in /home/alejandro/miniconda3/envs/autotransformers/lib/python3.11/site-packages (from tyro>=0.5.11->trl<0.8.0,>=0.7.11->autotransformers) (0.15)\n",
      "Requirement already satisfied: rich>=11.1.0 in /home/alejandro/miniconda3/envs/autotransformers/lib/python3.11/site-packages (from tyro>=0.5.11->trl<0.8.0,>=0.7.11->autotransformers) (13.7.1)\n",
      "Requirement already satisfied: shtab>=1.5.6 in /home/alejandro/miniconda3/envs/autotransformers/lib/python3.11/site-packages (from tyro>=0.5.11->trl<0.8.0,>=0.7.11->autotransformers) (1.7.1)\n",
      "Requirement already satisfied: GitPython>=1.0.0 in /home/alejandro/miniconda3/envs/autotransformers/lib/python3.11/site-packages (from wandb>=0.10.32->simpletransformers<0.62.0,>=0.61.10->autotransformers) (3.1.42)\n",
      "Requirement already satisfied: promise<3,>=2.0 in /home/alejandro/miniconda3/envs/autotransformers/lib/python3.11/site-packages (from wandb>=0.10.32->simpletransformers<0.62.0,>=0.61.10->autotransformers) (2.3)\n",
      "Requirement already satisfied: shortuuid>=0.5.0 in /home/alejandro/miniconda3/envs/autotransformers/lib/python3.11/site-packages (from wandb>=0.10.32->simpletransformers<0.62.0,>=0.61.10->autotransformers) (1.0.13)\n",
      "Requirement already satisfied: sentry-sdk>=1.0.0 in /home/alejandro/miniconda3/envs/autotransformers/lib/python3.11/site-packages (from wandb>=0.10.32->simpletransformers<0.62.0,>=0.61.10->autotransformers) (1.42.0)\n",
      "Requirement already satisfied: docker-pycreds>=0.4.0 in /home/alejandro/miniconda3/envs/autotransformers/lib/python3.11/site-packages (from wandb>=0.10.32->simpletransformers<0.62.0,>=0.61.10->autotransformers) (0.4.0)\n",
      "Requirement already satisfied: pathtools in /home/alejandro/miniconda3/envs/autotransformers/lib/python3.11/site-packages (from wandb>=0.10.32->simpletransformers<0.62.0,>=0.61.10->autotransformers) (0.1.2)\n",
      "Requirement already satisfied: setproctitle in /home/alejandro/miniconda3/envs/autotransformers/lib/python3.11/site-packages (from wandb>=0.10.32->simpletransformers<0.62.0,>=0.61.10->autotransformers) (1.3.3)\n",
      "Requirement already satisfied: MarkupSafe>=2.1.1 in /home/alejandro/miniconda3/envs/autotransformers/lib/python3.11/site-packages (from werkzeug>=1.0.1->tensorboard<3.0.0,>=2.10.1->autotransformers) (2.1.5)\n",
      "Requirement already satisfied: altair>=3.2.0 in /home/alejandro/miniconda3/envs/autotransformers/lib/python3.11/site-packages (from streamlit->simpletransformers<0.62.0,>=0.61.10->autotransformers) (5.2.0)\n",
      "Requirement already satisfied: blinker in /home/alejandro/miniconda3/envs/autotransformers/lib/python3.11/site-packages (from streamlit->simpletransformers<0.62.0,>=0.61.10->autotransformers) (1.7.0)\n",
      "Requirement already satisfied: cachetools>=4.0 in /home/alejandro/miniconda3/envs/autotransformers/lib/python3.11/site-packages (from streamlit->simpletransformers<0.62.0,>=0.61.10->autotransformers) (5.3.3)\n",
      "Requirement already satisfied: importlib-metadata>=1.4 in /home/alejandro/miniconda3/envs/autotransformers/lib/python3.11/site-packages (from streamlit->simpletransformers<0.62.0,>=0.61.10->autotransformers) (7.0.2)\n",
      "Requirement already satisfied: pydeck>=0.1.dev5 in /home/alejandro/miniconda3/envs/autotransformers/lib/python3.11/site-packages (from streamlit->simpletransformers<0.62.0,>=0.61.10->autotransformers) (0.8.0)\n",
      "Requirement already satisfied: pympler>=0.9 in /home/alejandro/miniconda3/envs/autotransformers/lib/python3.11/site-packages (from streamlit->simpletransformers<0.62.0,>=0.61.10->autotransformers) (1.0.1)\n",
      "Requirement already satisfied: toml in /home/alejandro/miniconda3/envs/autotransformers/lib/python3.11/site-packages (from streamlit->simpletransformers<0.62.0,>=0.61.10->autotransformers) (0.10.2)\n",
      "Requirement already satisfied: tornado>=5.0 in /home/alejandro/miniconda3/envs/autotransformers/lib/python3.11/site-packages (from streamlit->simpletransformers<0.62.0,>=0.61.10->autotransformers) (6.3.3)\n",
      "Requirement already satisfied: validators in /home/alejandro/miniconda3/envs/autotransformers/lib/python3.11/site-packages (from streamlit->simpletransformers<0.62.0,>=0.61.10->autotransformers) (0.22.0)\n",
      "Requirement already satisfied: semver in /home/alejandro/miniconda3/envs/autotransformers/lib/python3.11/site-packages (from streamlit->simpletransformers<0.62.0,>=0.61.10->autotransformers) (3.0.2)\n",
      "Requirement already satisfied: watchdog in /home/alejandro/miniconda3/envs/autotransformers/lib/python3.11/site-packages (from streamlit->simpletransformers<0.62.0,>=0.61.10->autotransformers) (4.0.0)\n",
      "Requirement already satisfied: jsonschema>=3.0 in /home/alejandro/miniconda3/envs/autotransformers/lib/python3.11/site-packages (from altair>=3.2.0->streamlit->simpletransformers<0.62.0,>=0.61.10->autotransformers) (4.19.2)\n",
      "Requirement already satisfied: toolz in /home/alejandro/miniconda3/envs/autotransformers/lib/python3.11/site-packages (from altair>=3.2.0->streamlit->simpletransformers<0.62.0,>=0.61.10->autotransformers) (0.12.1)\n",
      "Requirement already satisfied: gitdb<5,>=4.0.1 in /home/alejandro/miniconda3/envs/autotransformers/lib/python3.11/site-packages (from GitPython>=1.0.0->wandb>=0.10.32->simpletransformers<0.62.0,>=0.61.10->autotransformers) (4.0.11)\n",
      "Requirement already satisfied: zipp>=0.5 in /home/alejandro/miniconda3/envs/autotransformers/lib/python3.11/site-packages (from importlib-metadata>=1.4->streamlit->simpletransformers<0.62.0,>=0.61.10->autotransformers) (3.18.0)\n",
      "Requirement already satisfied: markdown-it-py>=2.2.0 in /home/alejandro/miniconda3/envs/autotransformers/lib/python3.11/site-packages (from rich>=11.1.0->tyro>=0.5.11->trl<0.8.0,>=0.7.11->autotransformers) (3.0.0)\n",
      "Requirement already satisfied: pygments<3.0.0,>=2.13.0 in /home/alejandro/miniconda3/envs/autotransformers/lib/python3.11/site-packages (from rich>=11.1.0->tyro>=0.5.11->trl<0.8.0,>=0.7.11->autotransformers) (2.15.1)\n",
      "Requirement already satisfied: soupsieve>1.2 in /home/alejandro/miniconda3/envs/autotransformers/lib/python3.11/site-packages (from beautifulsoup4->gdown>=4.0.0->nlpaug<2.0.0,>=1.1.11->autotransformers) (2.5)\n",
      "Requirement already satisfied: PySocks!=1.5.7,>=1.5.6 in /home/alejandro/miniconda3/envs/autotransformers/lib/python3.11/site-packages (from requests[socks]->gdown>=4.0.0->nlpaug<2.0.0,>=1.1.11->autotransformers) (1.7.1)\n",
      "Requirement already satisfied: mpmath>=0.19 in /home/alejandro/miniconda3/envs/autotransformers/lib/python3.11/site-packages (from sympy->torch>=1.10.0->accelerate<0.22.0,>=0.21.0->autotransformers) (1.3.0)\n",
      "Requirement already satisfied: smmap<6,>=3.0.1 in /home/alejandro/miniconda3/envs/autotransformers/lib/python3.11/site-packages (from gitdb<5,>=4.0.1->GitPython>=1.0.0->wandb>=0.10.32->simpletransformers<0.62.0,>=0.61.10->autotransformers) (5.0.1)\n",
      "Requirement already satisfied: jsonschema-specifications>=2023.03.6 in /home/alejandro/miniconda3/envs/autotransformers/lib/python3.11/site-packages (from jsonschema>=3.0->altair>=3.2.0->streamlit->simpletransformers<0.62.0,>=0.61.10->autotransformers) (2023.12.1)\n",
      "Requirement already satisfied: referencing>=0.28.4 in /home/alejandro/miniconda3/envs/autotransformers/lib/python3.11/site-packages (from jsonschema>=3.0->altair>=3.2.0->streamlit->simpletransformers<0.62.0,>=0.61.10->autotransformers) (0.30.2)\n",
      "Requirement already satisfied: rpds-py>=0.7.1 in /home/alejandro/miniconda3/envs/autotransformers/lib/python3.11/site-packages (from jsonschema>=3.0->altair>=3.2.0->streamlit->simpletransformers<0.62.0,>=0.61.10->autotransformers) (0.18.0)\n",
      "Requirement already satisfied: mdurl~=0.1 in /home/alejandro/miniconda3/envs/autotransformers/lib/python3.11/site-packages (from markdown-it-py>=2.2.0->rich>=11.1.0->tyro>=0.5.11->trl<0.8.0,>=0.7.11->autotransformers) (0.1.2)\n",
      "Collecting referencing>=0.28.4 (from jsonschema>=3.0->altair>=3.2.0->streamlit->simpletransformers<0.62.0,>=0.61.10->autotransformers)\n",
      "  Downloading referencing-0.34.0-py3-none-any.whl.metadata (2.8 kB)\n",
      "Downloading autotransformers-0.0.3-py3-none-any.whl (59 kB)\n",
      "\u001b[2K   \u001b[90m━━━━━━━━━━━━━━━━━━━━━━━━━━━━━━━━━━━━━━━━\u001b[0m \u001b[32m59.5/59.5 kB\u001b[0m \u001b[31m5.2 MB/s\u001b[0m eta \u001b[36m0:00:00\u001b[0m\n",
      "\u001b[?25hDownloading referencing-0.34.0-py3-none-any.whl (26 kB)\n",
      "Installing collected packages: referencing, autotransformers\n",
      "  Attempting uninstall: referencing\n",
      "    Found existing installation: referencing 0.30.2\n",
      "    Uninstalling referencing-0.30.2:\n",
      "      Successfully uninstalled referencing-0.30.2\n",
      "  Attempting uninstall: autotransformers\n",
      "    Found existing installation: autotransformers 0.0.1\n",
      "    Uninstalling autotransformers-0.0.1:\n",
      "      Successfully uninstalled autotransformers-0.0.1\n",
      "Successfully installed autotransformers-0.0.3 referencing-0.34.0\n"
     ]
    }
   ],
   "source": [
    "!pip install autotransformers --upgrade"
   ]
  },
  {
   "cell_type": "code",
   "execution_count": 1,
   "metadata": {},
   "outputs": [
    {
     "data": {
      "text/plain": [
       "True"
      ]
     },
     "execution_count": 1,
     "metadata": {},
     "output_type": "execute_result"
    }
   ],
   "source": [
    "import torch\n",
    "torch.cuda.is_available() # NOTE: This should be True for everything to work smoothly."
   ]
  },
  {
   "cell_type": "markdown",
   "metadata": {},
   "source": [
    "# Train Instructional Chatbots in Spanish\n",
    "\n",
    "In this tutorial, we'll explore how to train instructional chatbots in Spanish using the [somos-clean-alpaca](https://huggingface.co/datasets/somosnlp/somos-clean-alpaca-es) dataset. This dataset provides a rich collection of conversational and instructional interactions in Spanish, making it an ideal resource for developing chatbots capable of understanding and executing specific instructions. We'll leverage the `autotransformers` library to streamline the training process, applying advanced techniques such as LoRA and quantization for efficient model adaptation and performance. Whether you're looking to enhance an existing chatbot or build a new one from scratch, this guide will equip you with the knowledge and tools needed to succeed."
   ]
  },
  {
   "cell_type": "markdown",
   "metadata": {},
   "source": [
    "## Importing Necessary Libraries\n",
    "\n",
    "Before we begin, it's essential to import the necessary libraries that will be used throughout the tutorial. These libraries provide the foundational tools required for loading datasets, configuring models, and training. Below is a brief overview of each import and its role in our project:\n",
    "\n",
    "- `from autotransformers import AutoTrainer, DatasetConfig, ModelConfig`: Imports the `AutoTrainer` class for orchestrating the training process, and `DatasetConfig` and `ModelConfig` for configuring the dataset and model parameters, respectively, within the `autotransformers` library.\n",
    "\n",
    "- `from autotransformers.llm_templates import QLoraWrapperModelInit, modify_tokenizer, qlora_config, SavePeftModelCallback`: These imports from the `autotransformers` library's large language model (LLM) templates module include utilities for initializing models with LoRA wrappers, modifying tokenizers to fit our task, configuring quantization (QLoRA), and implementing a callback to save PEFT (Post-training Efficiency Fine-tuning) models.\n",
    "\n",
    "- `from functools import partial`: The `partial` function from the `functools` module is used to partially apply functions, allowing us to pre-specify some arguments of a function, which is particularly useful for customizing our tokenizer modification function.\n",
    "\n",
    "- `from peft import LoraConfig`: Imports the `LoraConfig` class from the `peft` library, which is used to specify configurations for LoRA (Low-Rank Adaptation), an efficient method for adapting pre-trained models to new tasks with minimal computational overhead.\n",
    "\n",
    "- `from datasets import load_dataset`: From the `datasets` library, we import the `load_dataset` function, which is used to load and preprocess data from a wide range of datasets available in the Hugging Face Datasets repository, including our target dataset `somos-clean-alpaca-es`.\n",
    "\n",
    "Ensure all these libraries are installed in your environment before proceeding with the tutorial.\n"
   ]
  },
  {
   "cell_type": "code",
   "execution_count": 2,
   "metadata": {},
   "outputs": [
    {
     "name": "stderr",
     "output_type": "stream",
     "text": [
      "[nltk_data] Downloading package punkt to /home/alejandro/nltk_data...\n",
      "[nltk_data]   Package punkt is already up-to-date!\n",
      "/home/alejandro/miniconda3/envs/autotransformers/lib/python3.11/site-packages/tqdm/auto.py:21: TqdmWarning: IProgress not found. Please update jupyter and ipywidgets. See https://ipywidgets.readthedocs.io/en/stable/user_install.html\n",
      "  from .autonotebook import tqdm as notebook_tqdm\n",
      "[nltk_data] Downloading package punkt to /home/alejandro/nltk_data...\n",
      "[nltk_data]   Package punkt is already up-to-date!\n"
     ]
    }
   ],
   "source": [
    "from autotransformers import AutoTrainer, DatasetConfig, ModelConfig\n",
    "from autotransformers.llm_templates import instructions_to_chat, NEFTuneTrainer, QLoraWrapperModelInit, modify_tokenizer, qlora_config, SavePeftModelCallback\n",
    "from functools import partial\n",
    "from peft import LoraConfig\n",
    "from datasets import load_dataset"
   ]
  },
  {
   "cell_type": "markdown",
   "metadata": {},
   "source": [
    "## Creating the Chat Template\n",
    "\n",
    "To correctly format the conversations for training, we define a chat template using Jinja2 templating syntax. This template iterates through each message in a conversation, categorizing and formatting them based on their role:\n",
    "\n",
    "- **User Messages**: Wrapped with `<user>` tags to clearly indicate messages from the user. These are the instructions or queries directed at the chatbot.\n",
    "\n",
    "- **System Messages**: Enclosed within `<system>` tags, followed by line breaks for readability. These messages might include system-generated instructions or context that guides the chatbot's responses.\n",
    "\n",
    "- **Assistant Responses**: Placed between the conversation, after `</user>` tags and marked with `</assistant>` tags at the end, along with the end-of-sentence (EOS) token. These are the chatbot's replies or actions taken in response to the user's message, at each utterance or intervention in the conversation.\n",
    "\n",
    "- **Input Data**: Marked with `<input>` tags to distinguish any additional input or contextual information provided to the chatbot.\n",
    "\n",
    "This structured format is crucial for the model to understand the different components of a conversation, enabling it to generate appropriate responses based on the role of each message.\n",
    "\n",
    "Typically, a conversation will start with the system message, then have an input containing additional context for the assistant, and then turns of user-assistant, which can be one or more."
   ]
  },
  {
   "cell_type": "code",
   "execution_count": 3,
   "metadata": {},
   "outputs": [],
   "source": [
    "CHAT_TEMPLATE = \"\"\"{% for message in messages %}\n",
    "    {% if message['role'] == 'user' %}\n",
    "        {{'<user> ' + message['content'].strip() + ' </user>' }}\n",
    "    {% elif message['role'] == 'system' %}\n",
    "        {{'<system>\\\\n' + message['content'].strip() + '\\\\n</system>\\\\n\\\\n' }}\n",
    "    {% elif message['role'] == 'assistant' %}\n",
    "        {{ message['content'].strip() + ' </assistant>' + eos_token }}\n",
    "    {% elif message['role'] == 'input' %}\n",
    "        {{'<input> ' + message['content'] + ' </input>' }}\n",
    "    {% endif %}\n",
    "{% endfor %}\"\"\""
   ]
  },
  {
   "cell_type": "markdown",
   "metadata": {},
   "source": [
    "## Dataset Preparation\n",
    "\n",
    "The dataset preparation phase is crucial for structuring the data in a way that's conducive to training a chatbot. We first load the dataset from the hub and then utilize a custom function, `process_alpaca`, to transform each sample from the `somos-clean-alpaca` dataset into a format that mirrors a real conversation flow involving a system message, user input, and assistant response.\n",
    "\n",
    "### The `process_alpaca` Function\n",
    "\n",
    "`process_alpaca` takes a dictionary representing a single dataset sample and restructures it by categorizing and ordering messages based on their role in a conversation:\n",
    "\n",
    "- It starts by adding a **system message** that sets the context for the chatbot as an assistant designed to follow user instructions.\n",
    "- If present, **input data** is added next to provide additional context or information needed to fulfill the user's request.\n",
    "- The **user's instruction** is then added, followed by the **assistant's output**, which is the response to the user's request.\n",
    "\n",
    "This restructuring results in a `messages` list within the sample dictionary, containing all conversation elements in their logical order.\n",
    "\n",
    "### Applying the Transformation\n",
    "\n",
    "To apply this transformation across the entire dataset:\n",
    "\n",
    "- We use the `.map` method with `process_alpaca` as the mapping function, setting `batched=False` to process samples individually and `num_proc=4` to parallelize the operation, enhancing efficiency.\n",
    "- Columns not part of the `messages` structure are removed to streamline the dataset.\n",
    "\n",
    "Finally, the dataset is split into training and test sets with a 20% test size, ensuring that we can evaluate our chatbot's performance on unseen data. This split is achieved using the `train_test_split` method, providing a solid foundation for training and validating the chatbot model.\n"
   ]
  },
  {
   "cell_type": "code",
   "execution_count": 4,
   "metadata": {},
   "outputs": [],
   "source": [
    "alpaca = load_dataset(\"somosnlp/somos-clean-alpaca-es\")"
   ]
  },
  {
   "cell_type": "code",
   "execution_count": 5,
   "metadata": {},
   "outputs": [],
   "source": [
    "def process_alpaca(sample: dict) -> dict:\n",
    "    \"\"\"\n",
    "    Processes a single sample from the alpaca dataset to structure it for chatbot training.\n",
    "\n",
    "    This function transforms the dataset sample into a format suitable for training,\n",
    "    where each message is categorized by its role in the conversation (system, input, user, assistant).\n",
    "    It initializes the conversation with a system message, then conditionally adds an input message,\n",
    "    follows with the user's instruction, and finally, the assistant's output based on the provided inputs.\n",
    "\n",
    "    Parameters\n",
    "    ----------\n",
    "    sample : dict\n",
    "        A dictionary representing a single sample from the dataset. It must contain\n",
    "        keys corresponding to input and output components of the conversation.\n",
    "\n",
    "    Returns\n",
    "    -------\n",
    "    dict\n",
    "        A modified dictionary with a 'messages' key that contains a list of ordered messages,\n",
    "        each annotated with its role in the conversation.\n",
    "    \"\"\"\n",
    "    chat = [\n",
    "        {\"role\": \"system\", \"content\": \"Eres un asistente que resuelve las instrucciones del usuario. Si se proporciona contexto adicional, utiliza esa información para completar la instrucción.\"}\n",
    "    ]\n",
    "    inp_ = sample[\"inputs\"][\"2-input\"] \n",
    "    if inp_ is not None and inp_ != \"\":\n",
    "        chat.append(\n",
    "            {\"role\": \"input\", \"content\": inp_}\n",
    "        )\n",
    "    chat.extend(\n",
    "        [\n",
    "            {\"role\": \"user\", \"content\": sample[\"inputs\"][\"1-instruction\"]},\n",
    "            {\"role\": \"assistant\", \"content\": sample[\"inputs\"][\"3-output\"]}\n",
    "        ]\n",
    "    )\n",
    "    sample[\"messages\"] = chat\n",
    "    return sample\n"
   ]
  },
  {
   "cell_type": "markdown",
   "metadata": {},
   "source": [
    "Alternativamente, podemos usar directamente la función `instructions_to_chat` de `llm_templates`."
   ]
  },
  {
   "cell_type": "code",
   "execution_count": 6,
   "metadata": {},
   "outputs": [],
   "source": [
    "alpaca = alpaca.map(\n",
    "    partial(\n",
    "        instructions_to_chat,\n",
    "        input_field=\"1-instruction\",\n",
    "        context_field=\"2-input\",\n",
    "        output_field=\"3-output\",\n",
    "        nested_field=\"inputs\"\n",
    "    ),\n",
    "    batched=False,\n",
    "    num_proc=4,\n",
    "    remove_columns=[col for col in alpaca[\"train\"].column_names if col != \"messages\"])"
   ]
  },
  {
   "cell_type": "code",
   "execution_count": 7,
   "metadata": {},
   "outputs": [],
   "source": [
    "alpaca = alpaca[\"train\"].train_test_split(0.2, seed=203984)"
   ]
  },
  {
   "cell_type": "markdown",
   "metadata": {},
   "source": [
    "## Configuring the Dataset for AutoTransformers\n",
    "\n",
    "To ensure our instructional chatbot model trains efficiently and effectively, we meticulously configure our dataset using the `autotransformers` library's `DatasetConfig`. This step is essential for tailoring the training process to our specific needs, including hyperparameter settings, dataset particulars, and training strategies.\n",
    "\n",
    "### Setting Up Training Arguments\n",
    "\n",
    "A set of fixed training arguments (`fixed_train_args`) is defined to control various aspects of the training process:\n",
    "\n",
    "- **Batch sizes** for both training and evaluation are set to 1, indicating that samples are processed individually. This can be particularly useful for large models or when GPU memory is limited.\n",
    "- **Gradient accumulation** is used with 16 steps, allowing us to effectively simulate a larger batch size and stabilize training without exceeding memory limits.\n",
    "- A **warmup ratio** of 0.03 gradually increases the learning rate at the beginning of training to prevent the model from converging too quickly to a suboptimal solution.\n",
    "- **Learning rate**, **weight decay**, and other optimization settings are carefully chosen to balance model learning speed and quality.\n",
    "- **Evaluation and saving strategies** are configured to periodically check the model's performance and save checkpoints, enabling monitoring and continuation of training from the last saved state.\n",
    "\n",
    "### Crafting the Dataset Configuration\n",
    "\n",
    "The `alpaca_config` dictionary encompasses all necessary information for dataset preparation and integration:\n",
    "\n",
    "- **Dataset details** such as name, task type, and specific columns to use for text and labels ensure that the model trains on the correct data format.\n",
    "- **Training parameters** are included via the `fixed_training_args` dictionary.\n",
    "- **Callback classes**, such as `SavePeftModelCallback`, automate important steps like model saving during training.\n",
    "- **Process optimizations** like setting a seed for reproducibility, specifying the optimization direction and metric, and enabling partial splits for validation set creation."
   ]
  },
  {
   "cell_type": "code",
   "execution_count": 8,
   "metadata": {},
   "outputs": [],
   "source": [
    "fixed_train_args = {\n",
    "    \"per_device_train_batch_size\": 1,\n",
    "    \"per_device_eval_batch_size\": 1,\n",
    "    \"gradient_accumulation_steps\": 16,\n",
    "    \"warmup_ratio\": 0.03,\n",
    "    \"learning_rate\": 2e-4,\n",
    "    \"bf16\": True,\n",
    "    \"logging_steps\": 50,\n",
    "    \"lr_scheduler_type\": \"constant\",\n",
    "    \"weight_decay\": 0.001,\n",
    "    \"eval_steps\": 200,\n",
    "    \"save_steps\": 50,\n",
    "    \"num_train_epochs\": 1,\n",
    "    \"logging_first_step\": True,\n",
    "    \"evaluation_strategy\": \"steps\",\n",
    "    \"save_strategy\": \"steps\",\n",
    "    \"max_grad_norm\": 0.3,\n",
    "    \"optim\": \"paged_adamw_32bit\",\n",
    "    \"gradient_checkpointing\": True,\n",
    "    \"group_by_length\": False,\n",
    "    \"save_total_limit\": 50,\n",
    "    \"adam_beta2\": 0.999\n",
    "}"
   ]
  },
  {
   "cell_type": "code",
   "execution_count": 9,
   "metadata": {},
   "outputs": [],
   "source": [
    "alpaca_config = {\n",
    "        \"seed\": 9834,\n",
    "        \"direction_optimize\": \"minimize\",\n",
    "        \"metric_optimize\": \"eval_loss\",\n",
    "        \"callbacks\": [SavePeftModelCallback],\n",
    "        \"fixed_training_args\": fixed_train_args,\n",
    "        \"dataset_name\": \"alpaca\",\n",
    "        \"alias\": \"alpaca\",\n",
    "        \"retrain_at_end\": False,\n",
    "        \"task\": \"chatbot\",\n",
    "        \"text_field\": \"messages\",\n",
    "        \"label_col\": \"messages\",\n",
    "        \"num_proc\": 4,\n",
    "        \"loaded_dataset\": alpaca,\n",
    "        \"partial_split\": True, # to create a validation split.\n",
    "}"
   ]
  },
  {
   "cell_type": "code",
   "execution_count": 10,
   "metadata": {},
   "outputs": [],
   "source": [
    "alpaca_config = DatasetConfig(**alpaca_config)"
   ]
  },
  {
   "cell_type": "markdown",
   "metadata": {},
   "source": [
    "## Model Configuration\n",
    "\n",
    "In the \"Model Configuration\" section, we outline how to set up the model configurations using `autotransformers`, focusing on integrating LoRA (Low-Rank Adaptation) for model adaptation and applying quantization for efficiency. These steps are crucial for tailoring the model to our specific task and environment, ensuring optimal performance and resource utilization.\n",
    "\n",
    "### LoRA Configuration\n",
    "\n",
    "The `LoraConfig` object is instantiated with parameters tailored to enhance model adaptability while maintaining efficiency:\n",
    "\n",
    "- **r (rank)** and **lora_alpha** are set to adjust the capacity and learning rate multiplier for LoRA layers, balancing between model flexibility and overfitting risk.\n",
    "- **target_modules** specifies which parts of the model to apply LoRA. In this case, \"all-linear\" modules are targeted for adaptation, offering a broad enhancement over the model's capabilities.\n",
    "- **lora_dropout** is adjusted based on the model size, ensuring that regularization is appropriately scaled.\n",
    "- **bias** configuration is set to \"none\", indicating that no additional bias terms are used in the LoRA adaptation layers.\n",
    "- The **task_type** is specified as \"CAUSAL_LM\" to indicate the causal language modeling task, aligning with the instructional chatbot's nature.\n",
    "\n",
    "### GEMMA Model Configuration\n",
    "\n",
    "The `ModelConfig` for the GEMMA model includes several key parameters and customizations:\n",
    "\n",
    "- **Model Name**: Specifies the pre-trained model to be adapted, \"google/gemma-2b-it\" in this case.\n",
    "- **Save Name and Directory**: Defines the naming convention and location for saving the fine-tuned model.\n",
    "- **Custom Parameters**: Includes model-specific settings, such as enabling trust in remote code and configuring device mapping for training.\n",
    "- **Model Initialization Wrapper**: `QLoraWrapperModelInit` is used to integrate the QLoRA quantization framework with the LoRA-configured model, optimizing for both adaptability and efficiency.\n",
    "- **Quantization and PEFT Configurations**: These are applied via the `quantization_config` and `peft_config` parameters, ensuring that the model benefits from both LoRA adaptations and efficient post-training quantization.\n",
    "- **Tokenizer Modification**: A partial function is used to customize the tokenizer, adjusting sequence length, adding special tokens, and incorporating the chat template designed for our conversational context."
   ]
  },
  {
   "cell_type": "code",
   "execution_count": 11,
   "metadata": {},
   "outputs": [],
   "source": [
    "lora_config = LoraConfig(\n",
    "        r=64,\n",
    "        lora_alpha=32,\n",
    "        target_modules=\"all-linear\",  # \"query_key_value\" # \"Wqkv\"\n",
    "        lora_dropout=0.05,  # 0.1 for <13B models, 0.05 otherwise.\n",
    "        bias=\"none\",\n",
    "        task_type=\"CAUSAL_LM\"\n",
    ")"
   ]
  },
  {
   "cell_type": "code",
   "execution_count": 12,
   "metadata": {},
   "outputs": [],
   "source": [
    "gemma_config = ModelConfig(\n",
    "    name=\"google/gemma-2b-it\",\n",
    "    save_name=\"gemma_2b_alpaca\",\n",
    "    save_dir=\"./gemma_2b_alpaca\",\n",
    "    custom_params_model={\"trust_remote_code\": True, \"device_map\": {\"\": 0}},\n",
    "    model_init_wrap_cls=QLoraWrapperModelInit,\n",
    "    quantization_config=qlora_config,\n",
    "    peft_config=lora_config,\n",
    "    neftune_noise_alpha=10,\n",
    "    custom_trainer_cls=NEFTuneTrainer,\n",
    "    func_modify_tokenizer=partial(\n",
    "        modify_tokenizer,\n",
    "        new_model_seq_length=4096, # lower the maximum seq length to 4096 instead of 8192 to fit in google colab GPUs.\n",
    "        add_special_tokens={\"pad_token\": \"[PAD]\"}, # add pad token.\n",
    "        chat_template=CHAT_TEMPLATE # add the new chat template including the system and input roles.\n",
    "    )\n",
    ")"
   ]
  },
  {
   "cell_type": "markdown",
   "metadata": {},
   "source": [
    "## Let's Train\n",
    "\n",
    "With our dataset and model configurations in place, we're now ready to initiate the training process. This is where the `AutoTrainer` class from the `autotransformers` library comes into play, orchestrating the entire training operation based on the specifications we've provided.\n",
    "\n",
    "### Setting Up the AutoTrainer\n",
    "\n",
    "The `AutoTrainer` is a comprehensive class designed to streamline the training of machine learning models, especially tailored for large language models. It accepts several parameters to control the training process:\n",
    "\n",
    "- **Model Configurations**: A list of `ModelConfig` objects, each defining the settings and customizations for a model. For our instructional chatbot, we include the configuration for the GEMMA model adapted with LoRA and quantization.\n",
    "- **Dataset Configurations**: Similar to model configurations, these are specified using `DatasetConfig` objects. We pass the configuration for our pre-processed and structured `alpaca` dataset, ensuring it's utilized effectively during training.\n",
    "- **Metrics Directory**: Specifies the directory where training metrics will be stored, allowing for performance monitoring and evaluation.\n",
    "- **Hyperparameter Search Mode**: Set to \"fixed\" in our case, indicating that we're not exploring different hyperparameters but rather training with a predetermined set.\n",
    "- **Clean**: A boolean flag to clean any previous runs' data, ensuring a fresh start for each training session.\n",
    "- **Metrics Cleaner**: Specifies the utility for handling temporary metrics data, keeping our metrics directory tidy and focused on significant results.\n",
    "- **Use Auth Token**: Enables the use of an authentication token, necessary for accessing certain models or datasets that may have access restrictions.\n",
    "\n",
    "### Initiating the Training\n",
    "\n",
    "With the `AutoTrainer` configured, we proceed to call its execution method. This step starts the training process, leveraging the configurations we've meticulously set up. The process involves:\n",
    "\n",
    "- Automatically loading and preparing the dataset according to our `DatasetConfig`.\n",
    "- Adapting and fine-tuning the model based on the `ModelConfig`, including any specified LoRA or quantization enhancements.\n",
    "- Regularly evaluating the model's performance using the provided validation set, allowing us to monitor its effectiveness in real-time.\n",
    "- Saving model checkpoints and training metrics, enabling both introspection of the training process and the resumption of training from the last saved state.\n",
    "\n",
    "Upon completion, the training results, including performance metrics and model checkpoints, are made available for analysis and deployment. This step marks the culmination of our instructional chatbot's preparation, rendering it ready for testing and eventually, deployment in real-world scenarios.\n"
   ]
  },
  {
   "cell_type": "code",
   "execution_count": 13,
   "metadata": {},
   "outputs": [],
   "source": [
    "autotrainer = AutoTrainer(\n",
    "    model_configs=[gemma_config],\n",
    "    dataset_configs=[alpaca_config],\n",
    "    metrics_dir=\"./metrics_alpaca\",\n",
    "    hp_search_mode=\"fixed\",\n",
    "    clean=True,\n",
    "    metrics_cleaner=\"tmp_metrics_cleaner\",\n",
    "    use_auth_token=True\n",
    ")"
   ]
  },
  {
   "cell_type": "code",
   "execution_count": 14,
   "metadata": {},
   "outputs": [
    {
     "name": "stderr",
     "output_type": "stream",
     "text": [
      "Iterating over datasets...:   0%|          | 0/1 [00:00<?, ?it/s]\n",
      "\u001b[A\n",
      "\u001b[A\n",
      "Loading checkpoint shards: 100%|██████████| 2/2 [00:03<00:00,  1.78s/it]\n",
      "/home/alejandro/miniconda3/envs/autotransformers/lib/python3.11/site-packages/datasets/formatting/formatting.py:100: RuntimeWarning: divide by zero encountered in remainder\n",
      "  return table.fast_gather(key % table.num_rows)\n",
      "Trying models on dataset alpaca: 100%|██████████| 1/1 [00:07<00:00,  7.39s/it]\n",
      "Iterating over datasets...: 100%|██████████| 1/1 [00:07<00:00,  7.39s/it]"
     ]
    },
    {
     "name": "stdout",
     "output_type": "stream",
     "text": [
      "Error occurred: list index out of range; don't worry, we skip this model.\n"
     ]
    },
    {
     "name": "stderr",
     "output_type": "stream",
     "text": [
      "\n"
     ]
    }
   ],
   "source": [
    "results = autotrainer()"
   ]
  },
  {
   "cell_type": "code",
   "execution_count": null,
   "metadata": {},
   "outputs": [],
   "source": []
  }
 ],
 "metadata": {
  "kernelspec": {
   "display_name": "chatnatural",
   "language": "python",
   "name": "python3"
  },
  "language_info": {
   "codemirror_mode": {
    "name": "ipython",
    "version": 3
   },
   "file_extension": ".py",
   "mimetype": "text/x-python",
   "name": "python",
   "nbconvert_exporter": "python",
   "pygments_lexer": "ipython3",
   "version": "3.11.8"
  }
 },
 "nbformat": 4,
 "nbformat_minor": 2
}
